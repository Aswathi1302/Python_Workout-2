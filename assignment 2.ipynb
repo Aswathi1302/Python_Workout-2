{
 "cells": [
  {
   "cell_type": "markdown",
   "metadata": {},
   "source": [
    "                            ******  ASSIGNMENT-2  *******"
   ]
  },
  {
   "cell_type": "markdown",
   "metadata": {},
   "source": [
    "QUE 1:- CALCULATE THE MULTIPLICATION AND SUM OF TWO NUMBERS......\n",
    "        Given two integer number returns their product only if the product is equal to or lower than 1000.else return their sum."
   ]
  },
  {
   "cell_type": "code",
   "execution_count": 29,
   "metadata": {},
   "outputs": [
    {
     "name": "stdout",
     "output_type": "stream",
     "text": [
      "number 1= 40\n",
      "number 2= 50\n",
      "The sum is = 90\n"
     ]
    }
   ],
   "source": [
    "num1=int(input(\"enter a number\"))\n",
    "num2=int (input(\"enter a number\"))\n",
    "print(\"number 1=\",num1)\n",
    "print(\"number 2=\",num2)\n",
    "product=num1*num2\n",
    "sum=num1+num2\n",
    "if(product<=1000):\n",
    "    print(\"The product is =\",product)\n",
    "else:\n",
    "    print(\"The sum is =\",sum)    "
   ]
  },
  {
   "cell_type": "markdown",
   "metadata": {},
   "source": [
    "    QUE 2:-CHECK THE FIRST AND LAST NUMBER OF A LIST IS SAME.....\n",
    "            Write a function to return True if the first and last number of a given list is same.if the number are different the return False"
   ]
  },
  {
   "cell_type": "code",
   "execution_count": 3,
   "metadata": {},
   "outputs": [
    {
     "name": "stdout",
     "output_type": "stream",
     "text": [
      "given list is [10, 20, 30, 40, 10]\n",
      "result is True\n",
      "given list is [10, 60, 45, 12, 45]\n",
      "result is False\n"
     ]
    }
   ],
   "source": [
    "from pickle import FALSE\n",
    "\n",
    "\n",
    "def same_number(number_list):\n",
    "    print(\"given list is\",number_list)\n",
    "    first_num=number_list[0]\n",
    "    last_num=number_list[-1]\n",
    "    if first_num==last_num:\n",
    "        return True\n",
    "    else:\n",
    "        return False\n",
    "\n",
    "numlist_1=[10,20,30,40,10]\n",
    "print(\"result is\",same_number(numlist_1))\n",
    "numlist_2=[10,60,45,12,45]\n",
    "print(\"result is\",same_number(numlist_2))\n"
   ]
  },
  {
   "cell_type": "markdown",
   "metadata": {},
   "source": [
    "QUE 3:- DISPLAY NUMBERS DIVISIBLE BY 5 FROM A LIST.....\n",
    "        Iterate the given list of numbers and print only those numbers which are divisible by 5"
   ]
  },
  {
   "cell_type": "code",
   "execution_count": 4,
   "metadata": {},
   "outputs": [
    {
     "name": "stdout",
     "output_type": "stream",
     "text": [
      "Given list [10, 45, 85, 46, 23, 82]\n",
      "divisible by 5\n",
      "10\n",
      "45\n",
      "85\n"
     ]
    }
   ],
   "source": [
    "number_list=[10,45,85,46,23,82]\n",
    "print(\"Given list\",number_list)\n",
    "print(\"divisible by 5\")\n",
    "for num in number_list:\n",
    "    if num % 5==0:\n",
    "        print(num)\n",
    "           "
   ]
  },
  {
   "cell_type": "markdown",
   "metadata": {},
   "source": [
    "QUE 4:-WRITE A PROGRAME TO FIND HOW MANY TIMES SUBSTRING \"Emma\" APPEARS IN THE GIVEN STRING."
   ]
  },
  {
   "cell_type": "code",
   "execution_count": 8,
   "metadata": {},
   "outputs": [
    {
     "name": "stdout",
     "output_type": "stream",
     "text": [
      "Emma appeared 2 times\n"
     ]
    }
   ],
   "source": [
    "str_x=\"Emma is good developer.Emma is a writer.\"\n",
    "emma_count =str_x.count(\"Emma\")\n",
    "print(\"Emma appeared\",emma_count,\"times\")"
   ]
  },
  {
   "cell_type": "markdown",
   "metadata": {},
   "source": [
    "QUE 5:- PRINT THE FOLLOWING PATTERN\n",
    "        1\n",
    "        2 2\n",
    "        3 3 3\n",
    "        4 4 4 4\n",
    "        5 5 5 5 5"
   ]
  },
  {
   "cell_type": "code",
   "execution_count": 14,
   "metadata": {},
   "outputs": [
    {
     "name": "stdout",
     "output_type": "stream",
     "text": [
      " \n",
      "1  \n",
      "2 2  \n",
      "3 3 3  \n",
      "4 4 4 4  \n",
      "5 5 5 5 5  \n"
     ]
    }
   ],
   "source": [
    "row=int(input(\"enter a number\"))\n",
    "for i in range(row):\n",
    "    for j in range(i):\n",
    "        print(i, end =' ')\n",
    "    print(' ')    "
   ]
  },
  {
   "cell_type": "markdown",
   "metadata": {},
   "source": [
    "QUE 6:- CREATE A NEW LIST FROM A TWO LIST USING THE FOLLOWING CONDITION\n",
    "        Given a two list of numbers,Write a programe to create a new list such that the newlist should contain odd number from the first list and even numbers from the second list."
   ]
  },
  {
   "cell_type": "code",
   "execution_count": 31,
   "metadata": {},
   "outputs": [
    {
     "name": "stdout",
     "output_type": "stream",
     "text": [
      "NEW LIST : [13, 19, 33, 10, 30]\n"
     ]
    }
   ],
   "source": [
    "numlist_1=[10,13,19,40,33]\n",
    "result=[]\n",
    "for i in numlist_1:\n",
    "    if (i % 2 != 0):\n",
    "        result.append(i)\n",
    "numlist_2=[10,23,30,11,27]\n",
    "for j in numlist_2:\n",
    "    if (j % 2 == 0):\n",
    "        result.append(j)\n",
    "print(\"NEW LIST :\",result)        \n",
    "\n",
    "\n",
    "\n",
    "\n"
   ]
  }
 ],
 "metadata": {
  "kernelspec": {
   "display_name": "Python 3.10.7 64-bit",
   "language": "python",
   "name": "python3"
  },
  "language_info": {
   "codemirror_mode": {
    "name": "ipython",
    "version": 3
   },
   "file_extension": ".py",
   "mimetype": "text/x-python",
   "name": "python",
   "nbconvert_exporter": "python",
   "pygments_lexer": "ipython3",
   "version": "3.10.7"
  },
  "orig_nbformat": 4,
  "vscode": {
   "interpreter": {
    "hash": "49bb8d6b5070a5d55bf02ebd564ef1f2cd102c05393e2cd9154b2c8caab561c9"
   }
  }
 },
 "nbformat": 4,
 "nbformat_minor": 2
}
